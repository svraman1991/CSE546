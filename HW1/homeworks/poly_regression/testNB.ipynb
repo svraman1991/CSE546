{
 "cells": [
  {
   "cell_type": "code",
   "execution_count": 2,
   "metadata": {},
   "outputs": [
    {
     "name": "stdout",
     "output_type": "stream",
     "text": [
      "[[0. 0. 0.]\n",
      " [0. 0. 0.]\n",
      " [0. 0. 0.]]\n",
      "[[ 1.  1.  1.]\n",
      " [ 3.  9. 27.]\n",
      " [ 4. 16. 64.]]\n"
     ]
    }
   ],
   "source": [
    "import numpy as np\n",
    "\n",
    "x = np.array([[1],[3],[4]])\n",
    "#print(x.shape)\n",
    "#np.repeat(x, 2)\n",
    "#print(x)\n",
    "\n",
    "#degree = 2\n",
    "\n",
    "n,d1 = x.shape\n",
    "degree = 3\n",
    "update = np.zeros((n,degree))\n",
    "print(update)\n",
    "for i in range(n):\n",
    "    #print(f'i = {i} and value is {x[i]}')\n",
    "    for j in range(degree):\n",
    "        #print (f'j = {j} and value is {x[i] ** (j+1)}')\n",
    "        update[i,j] = x[i] ** (j+1)\n",
    "        #np.put(update, (i,j), v )\n",
    "\n",
    "print(update)\n",
    "\n",
    "\n",
    "#np.tile(x, (1, 2))"
   ]
  },
  {
   "cell_type": "code",
   "execution_count": 3,
   "metadata": {},
   "outputs": [],
   "source": [
    "def polyfeatures(X: np.ndarray, degree: int) -> np.ndarray:\n",
    "        \"\"\"\n",
    "        Expands the given X into an (n, degree) array of polynomial features of degree degree.\n",
    "\n",
    "        Args:\n",
    "            X (np.ndarray): Array of shape (n, 1).\n",
    "            degree (int): Positive integer defining maximum power to include.\n",
    "\n",
    "        Returns:\n",
    "            np.ndarray: A (n, degree) numpy array, with each row comprising of\n",
    "                X, X * X, X ** 3, ... up to the degree^th power of X.\n",
    "                Note that the returned matrix will not include the zero-th power.\n",
    "\n",
    "        \"\"\"\n",
    "        n, d1 = X.shape\n",
    "        if degree < 1:\n",
    "            pfX_ = np.zeros((1, 1))\n",
    "        else:\n",
    "            if d1 != 1:\n",
    "                pfX_ = np.zeros((1, 1))\n",
    "            else:\n",
    "                pfX_ = np.zeros((n, degree))\n",
    "                for i in range(n):\n",
    "                    for j in range(degree):\n",
    "                        pfX_[i, j] = X[i] ** (j + 1)\n",
    "        return pfX_"
   ]
  },
  {
   "cell_type": "code",
   "execution_count": 6,
   "metadata": {},
   "outputs": [
    {
     "name": "stdout",
     "output_type": "stream",
     "text": [
      "(3, 1)\n",
      "[[1]\n",
      " [2]\n",
      " [3]]\n",
      "[[  1.   1.   1.   1.   1.]\n",
      " [  2.   4.   8.  16.  32.]\n",
      " [  3.   9.  27.  81. 243.]]\n",
      "[[-1.22474487 -1.1111678  -1.00138026 -0.91202919 -0.84634991]\n",
      " [ 0.         -0.20203051 -0.36413828 -0.48001536 -0.55803291]\n",
      " [ 1.22474487  1.31319831  1.36551854  1.39204455  1.40438282]]\n",
      "[[1. 0. 0. 0. 0. 0.]\n",
      " [1. 0. 0. 0. 0. 0.]\n",
      " [1. 0. 0. 0. 0. 0.]]\n",
      "via loop is \n",
      " [[ 1.         -1.22474487 -1.1111678  -1.00138026 -0.91202919 -0.84634991]\n",
      " [ 1.          0.         -0.20203051 -0.36413828 -0.48001536 -0.55803291]\n",
      " [ 1.          1.22474487  1.31319831  1.36551854  1.39204455  1.40438282]]\n",
      "via new stuff is \n",
      " [[ 1.         -1.22474487 -1.1111678  -1.00138026 -0.91202919 -0.84634991]\n",
      " [ 1.          0.         -0.20203051 -0.36413828 -0.48001536 -0.55803291]\n",
      " [ 1.          1.22474487  1.31319831  1.36551854  1.39204455  1.40438282]]\n"
     ]
    }
   ],
   "source": [
    "x = np.array([[1],[2],[3]])\n",
    "print(x.shape)\n",
    "print(x)\n",
    "\n",
    "a = polyfeatures(x, 5)\n",
    "print(a)\n",
    "XNormed = (a - np.mean(a, axis = 0))/(np.std(a, axis = 0))\n",
    "print(XNormed)\n",
    "\n",
    "n1,d1 = XNormed.shape\n",
    "newdata = np.zeros((n1, d1+1))\n",
    "newdata[:,0] = 1\n",
    "print(newdata)\n",
    "\n",
    "for i in range(n1):\n",
    "    for j in range(d1):\n",
    "        newdata[i, j+1] = XNormed[i,j]\n",
    "#print(XNormed)\n",
    "\n",
    "print(f'via loop is \\n {newdata}')\n",
    "\n",
    "#print(polyfeatures(x, 5))\n",
    "\n",
    "X_ = np.c_[np.ones([n1, 1]), XNormed]\n",
    "print(f'via new stuff is \\n {X_}')\n"
   ]
  },
  {
   "cell_type": "code",
   "execution_count": 4,
   "metadata": {},
   "outputs": [],
   "source": [
    "def mean_squared_error(a: np.ndarray, b: np.ndarray) -> float:\n",
    "    \"\"\"Given two arrays: a and b, both of shape (n, 1) calculate a mean squared error.\n",
    "\n",
    "    Args:\n",
    "        a (np.ndarray): Array of shape (n, 1)\n",
    "        b (np.ndarray): Array of shape (n, 1)\n",
    "\n",
    "    Returns:\n",
    "        float: mean squared error between a and b.\n",
    "    \"\"\"\n",
    "    #return (np.square(a - b)).mean(axis=None)\n",
    "    if a.shape != b.shape:\n",
    "        return -1\n",
    "    else:\n",
    "        return np.square(np.subtract(a, b)).mean()\n",
    "\n"
   ]
  },
  {
   "cell_type": "code",
   "execution_count": null,
   "metadata": {},
   "outputs": [],
   "source": [
    "from typing import Callable\n",
    "from unittest import TestCase, TestLoader, TestSuite\n",
    "\n",
    "import numpy as np\n",
    "from gradescope_utils.autograder_utils.decorators import partial_credit, visibility\n",
    "\n",
    "from homeworks.poly_regression.polyreg import (\n",
    "    PolynomialRegression,\n",
    "    learningCurve,\n",
    "    mean_squared_error,\n",
    ")\n",
    "\n",
    "degree = 3\n",
    "reg_lambda = 0\n",
    "X = np.linspace(-1, 1, 10).reshape(-1, 1)\n",
    "y = X ** 3\n",
    "X_test = np.linspace(0, 4, 10).reshape(-1, 1)\n",
    "\n",
    "expected = X_test ** 3\n",
    "\n",
    "model = PolynomialRegression(degree=degree, reg_lambda=reg_lambda)\n",
    "model.fit(X, y)\n",
    "actual = model.predict(X_test)\n",
    "\n",
    "print (f'actual is \\n  {actual}')\n",
    "print (f'expected is \\n  {expected}')"
   ]
  }
 ],
 "metadata": {
  "kernelspec": {
   "display_name": "cse446",
   "language": "python",
   "name": "python3"
  },
  "language_info": {
   "codemirror_mode": {
    "name": "ipython",
    "version": 3
   },
   "file_extension": ".py",
   "mimetype": "text/x-python",
   "name": "python",
   "nbconvert_exporter": "python",
   "pygments_lexer": "ipython3",
   "version": "3.8.10"
  },
  "orig_nbformat": 4
 },
 "nbformat": 4,
 "nbformat_minor": 2
}
