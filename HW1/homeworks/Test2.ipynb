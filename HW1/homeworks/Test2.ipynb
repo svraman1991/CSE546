{
 "cells": [
  {
   "cell_type": "code",
   "execution_count": 4,
   "metadata": {},
   "outputs": [
    {
     "name": "stdout",
     "output_type": "stream",
     "text": [
      "actual is \n",
      "  [[-0.42507299]\n",
      " [-0.42297387]\n",
      " [-0.40827999]\n",
      " [-0.36839659]\n",
      " [-0.29072894]\n",
      " [-0.16268226]\n",
      " [ 0.0283382 ]\n",
      " [ 0.29492719]\n",
      " [ 0.64967946]\n",
      " [ 1.10518978]]\n",
      "expected is \n",
      "  [[ 0.        ]\n",
      " [ 0.0877915 ]\n",
      " [ 0.70233196]\n",
      " [ 2.37037037]\n",
      " [ 5.61865569]\n",
      " [10.9739369 ]\n",
      " [18.96296296]\n",
      " [30.11248285]\n",
      " [44.94924554]\n",
      " [64.        ]]\n"
     ]
    }
   ],
   "source": [
    "from typing import Callable\n",
    "from unittest import TestCase, TestLoader, TestSuite\n",
    "\n",
    "import numpy as np\n",
    "from gradescope_utils.autograder_utils.decorators import partial_credit, visibility\n",
    "\n",
    "from poly_regression.polyreg import (\n",
    "    PolynomialRegression,\n",
    "    learningCurve,\n",
    "    mean_squared_error,\n",
    ")\n",
    "\n",
    "degree = 3\n",
    "reg_lambda = 0\n",
    "X = np.linspace(-1, 1, 10).reshape(-1, 1)\n",
    "# print (f'X is {X}')\n",
    "y = X ** 3\n",
    "X_test = np.linspace(0, 4, 10).reshape(-1, 1)\n",
    "# print (f'X_test is {X_test}')\n",
    "expected = X_test ** 3\n",
    "\n",
    "model = PolynomialRegression(degree=degree, reg_lambda=reg_lambda)\n",
    "model.fit(X, y)\n",
    "actual = model.predict(X_test)\n",
    "\n",
    "print (f'actual is \\n  {actual}')\n",
    "print (f'expected is \\n  {expected}')"
   ]
  }
 ],
 "metadata": {
  "kernelspec": {
   "display_name": "cse446",
   "language": "python",
   "name": "python3"
  },
  "language_info": {
   "codemirror_mode": {
    "name": "ipython",
    "version": 3
   },
   "file_extension": ".py",
   "mimetype": "text/x-python",
   "name": "python",
   "nbconvert_exporter": "python",
   "pygments_lexer": "ipython3",
   "version": "3.8.10"
  },
  "orig_nbformat": 4
 },
 "nbformat": 4,
 "nbformat_minor": 2
}
