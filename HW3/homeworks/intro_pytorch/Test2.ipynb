{
 "cells": [
  {
   "cell_type": "code",
   "execution_count": 9,
   "metadata": {},
   "outputs": [],
   "source": [
    "from losses.MSE import MSELossLayer\n",
    "from losses.CrossEntropy import CrossEntropyLossLayer\n",
    "from optimizers.SGD import SGDOptimizer\n",
    "import torch"
   ]
  },
  {
   "cell_type": "code",
   "execution_count": 6,
   "metadata": {},
   "outputs": [
    {
     "name": "stdout",
     "output_type": "stream",
     "text": [
      "tensor(0.1167)\n"
     ]
    }
   ],
   "source": [
    "#Testing for MSE Loss\n",
    "loss_layer = MSELossLayer()\n",
    "y_pred = torch.tensor([[0.5, 0.7, 0.9], [0.4, 0.6, 0.8]])\n",
    "y_true = torch.tensor([[1.0, 0.8, 0.6], [0.9, 0.7, 0.5]])\n",
    "\n",
    "\n",
    "result = loss_layer.forward(y_pred, y_true)\n",
    "\n",
    "print(result)\n"
   ]
  },
  {
   "cell_type": "code",
   "execution_count": 8,
   "metadata": {},
   "outputs": [
    {
     "name": "stdout",
     "output_type": "stream",
     "text": [
      "tensor(0.7068)\n"
     ]
    }
   ],
   "source": [
    "#Testing for Cross Entropy\n",
    "\n",
    "y_pred = torch.tensor([[0.2, 0.3, 0.5], [0.6, 0.2, 0.2], [0.1, 0.4, 0.5]])\n",
    "y_true = torch.tensor([2, 0, 1])\n",
    "\n",
    "ce_loss = CrossEntropyLossLayer()\n",
    "\n",
    "result = ce_loss.forward(y_pred, y_true)\n",
    "\n",
    "print(result)\n"
   ]
  },
  {
   "cell_type": "code",
   "execution_count": 11,
   "metadata": {},
   "outputs": [
    {
     "name": "stdout",
     "output_type": "stream",
     "text": [
      "0.5\n",
      "-1.0\n"
     ]
    }
   ],
   "source": [
    "#testing optimizer\n",
    "\n",
    "#Test case 1\n",
    "#params = [torch.tensor(2.0, requires_grad=True), torch.tensor(3.0, requires_grad=True)]\n",
    "#lr = 0.1\n",
    "\n",
    "#Test case 2\n",
    "params = [torch.tensor(0.5, requires_grad=True), torch.tensor(-1.0, requires_grad=True)]\n",
    "lr = 0.01\n",
    "\n",
    "optimizer = SGDOptimizer(params, lr)\n",
    "\n",
    "optimizer.step()\n",
    "\n",
    "for param in params:\n",
    "    print(param.item())\n"
   ]
  }
 ],
 "metadata": {
  "kernelspec": {
   "display_name": "cse446",
   "language": "python",
   "name": "python3"
  },
  "language_info": {
   "codemirror_mode": {
    "name": "ipython",
    "version": 3
   },
   "file_extension": ".py",
   "mimetype": "text/x-python",
   "name": "python",
   "nbconvert_exporter": "python",
   "pygments_lexer": "ipython3",
   "version": "3.8.10"
  },
  "orig_nbformat": 4
 },
 "nbformat": 4,
 "nbformat_minor": 2
}
